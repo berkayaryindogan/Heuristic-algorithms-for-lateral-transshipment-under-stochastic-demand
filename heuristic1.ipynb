{
 "cells": [
  {
   "cell_type": "code",
   "execution_count": 1,
   "id": "c22e1679",
   "metadata": {},
   "outputs": [],
   "source": [
    "import time\n",
    "import pandas as pd\n",
    "import numpy as np\n",
    "import math"
   ]
  },
  {
   "cell_type": "code",
   "execution_count": 2,
   "id": "20186c7a",
   "metadata": {},
   "outputs": [],
   "source": [
    "daily_demands = {'1': [(42.1,7.6),(41.9,12),(40.2,12.3),(37.2,12.3),(36.1,12.3),(34.6,12.6),(34.3,12.7)],\n",
    "                '2': [(15.6,4.8),(15.3,7.9),(15.8,7.7),(14.8,8.1),(16.2,7.7),(15.9,7.8),(17.2,7.7)],\n",
    "                '3': [(30,8.2),(29.3,12.3),(27.2,12.9),(26,14),(25.9,14.1),(25.6,14.4),(26.1,14.3)],\n",
    "                '4': [(3.1,1.6),(2.8,2.5),(3,2.5),(2.5,2.6),(2.8,2.6),(2.7,2.6),(3.2,2.5)],\n",
    "                '5': [(7.9,3.1),(8.4,4.8),(7.9,4.8),(7.3,5),(7.4,5),(6.9,5),(8.1,5)],\n",
    "                '6': [(22.8,5.8),(21.4,9),(19.9,9.1),(16.4,10.1),(20.4,10.2),(20.1,10.4),(16.6,10.4)], \n",
    "                '7': [(3.1,1.5),(2.9,2.5),(3.6,2.5),(3.1,2.4),(5,2.4),(5,2.5),(4.1,2.4)], \n",
    "                '8': [(3.8,2.4),(4.2,3.8),(4,3.7),(4,4.1),(3.4,4),(3.4,3.9),(3.4,3.8)], \n",
    "                '9': [(7.9,3.9),(8.7,5.6),(9,5.6),(9.1,6),(9.4,6),(9.4,6),(9.3,5.9)]} "
   ]
  },
  {
   "cell_type": "code",
   "execution_count": 3,
   "id": "8f378b3f",
   "metadata": {},
   "outputs": [],
   "source": [
    "store_grades = {'1': 3, '2': 1, '3': 1, '4': 3, '5': 2, '6': 2, '7': 4, '8': 3, '9': 4}"
   ]
  },
  {
   "cell_type": "code",
   "execution_count": 4,
   "id": "db436654",
   "metadata": {},
   "outputs": [
    {
     "data": {
      "text/plain": [
       "{3: 3, 1: 2, 2: 2, 4: 2}"
      ]
     },
     "execution_count": 4,
     "metadata": {},
     "output_type": "execute_result"
    }
   ],
   "source": [
    "grade_counts = {}\n",
    "for grade in store_grades.values():\n",
    "    if grade in grade_counts:\n",
    "        grade_counts[grade] += 1\n",
    "    else:\n",
    "        grade_counts[grade] = 1\n",
    "\n",
    "grade_counts"
   ]
  },
  {
   "cell_type": "code",
   "execution_count": 5,
   "id": "3b416257",
   "metadata": {},
   "outputs": [],
   "source": [
    "mean_sum = {\n",
    "    k: round(sum(val[0] for val in v), 2)\n",
    "    for k, v in daily_demands.items()\n",
    "}"
   ]
  },
  {
   "cell_type": "code",
   "execution_count": 6,
   "id": "05e0e1ef-91f6-4b9a-80de-32688da262c3",
   "metadata": {},
   "outputs": [],
   "source": [
    "current_inventory={}\n",
    "for store,demand  in daily_demands.items():\n",
    "    total = int(sum(x[0] for x in demand))\n",
    "    current_inventory[store]=total"
   ]
  },
  {
   "cell_type": "code",
   "execution_count": 7,
   "id": "f1a7953d",
   "metadata": {},
   "outputs": [],
   "source": [
    "current_inventory = {'1': 81,\n",
    "                    '2': 38,\n",
    "                    '3': 25,\n",
    "                    '4': 200,\n",
    "                    '5': 43,\n",
    "                    '6': 90,\n",
    "                    '7': 162,\n",
    "                    '8': 20,\n",
    "                    '9': 200}"
   ]
  },
  {
   "cell_type": "code",
   "execution_count": 8,
   "id": "943e2663",
   "metadata": {},
   "outputs": [],
   "source": [
    "initial_inventory = current_inventory.copy()"
   ]
  },
  {
   "cell_type": "code",
   "execution_count": 9,
   "id": "c39919e1",
   "metadata": {},
   "outputs": [],
   "source": [
    "def reset_inventory():\n",
    "    return initial_inventory.copy()"
   ]
  },
  {
   "cell_type": "code",
   "execution_count": 10,
   "id": "2064b48a",
   "metadata": {},
   "outputs": [],
   "source": [
    "num_stores = 9\n",
    "current_day = 4"
   ]
  },
  {
   "cell_type": "code",
   "execution_count": 11,
   "id": "bac1094c",
   "metadata": {},
   "outputs": [],
   "source": [
    "costs = {'stockout': 30,\n",
    "        'holding': 1,\n",
    "        'transshipment': 1}"
   ]
  },
  {
   "cell_type": "code",
   "execution_count": 12,
   "id": "2c8cce1d",
   "metadata": {},
   "outputs": [],
   "source": [
    "def convolution(store_id, start_day):\n",
    "    \n",
    "    store_data = daily_demands[store_id]\n",
    "    future_data = store_data[start_day:]\n",
    "    mean_values = [mean for mean, _ in future_data]\n",
    "    std_dev_values = [std_dev for _, std_dev in future_data]\n",
    "    convoluted_mean = sum(mean_values)\n",
    "    convoluted_st_dev = math.sqrt(sum(x**2 for x in std_dev_values))\n",
    "    return convoluted_mean, convoluted_st_dev"
   ]
  },
  {
   "cell_type": "code",
   "execution_count": 13,
   "id": "3b903631",
   "metadata": {},
   "outputs": [],
   "source": [
    "sales_dff = pd.DataFrame(columns=['Store', 'Day', 'Sales','Lost Sales','Demand','Inventory'])"
   ]
  },
  {
   "cell_type": "code",
   "execution_count": 14,
   "id": "65c5f302",
   "metadata": {},
   "outputs": [],
   "source": [
    "def update_inventory(i,current_day):\n",
    "    global sales_dff\n",
    "    todays_sales = {i: max(0,int(np.random.normal(daily_demands[(i)][current_day][0], daily_demands[(i)][current_day][1])))\n",
    "                    }\n",
    "    actual_sales = min(todays_sales[i], current_inventory[i])\n",
    "    lost_sales = max(0, todays_sales[i] - current_inventory[i])\n",
    "    current_inventory[i] = current_inventory[i]-actual_sales\n",
    "    new_row = pd.DataFrame({'Store': [i], 'Day': [current_day], 'Sales': [actual_sales],'Lost Sales':lost_sales,'Demand':todays_sales[i],'Inventory':current_inventory[i]})\n",
    "    sales_dff = pd.concat([sales_dff, new_row], ignore_index=True)\n",
    "    return current_inventory"
   ]
  },
  {
   "cell_type": "code",
   "execution_count": 15,
   "id": "6cf9eab8",
   "metadata": {},
   "outputs": [],
   "source": [
    "def reset_inventory():\n",
    "    return initial_inventory.copy()"
   ]
  },
  {
   "cell_type": "code",
   "execution_count": 16,
   "id": "0b41523e",
   "metadata": {},
   "outputs": [],
   "source": [
    "# updated\n",
    "def shipper_candidates(current_day):\n",
    "    shipper_cand = []\n",
    "   \n",
    "    for i in current_inventory.keys():\n",
    "        mean, st_dev = convolution(i, current_day)\n",
    "        critical_point = int(mean) + 1\n",
    "        \n",
    "        if critical_point < update_inventory(str(i),current_day)[i]:\n",
    "            shipper_cand.append(i)\n",
    "    return shipper_cand"
   ]
  },
  {
   "cell_type": "code",
   "execution_count": 17,
   "id": "18da72aa",
   "metadata": {},
   "outputs": [],
   "source": [
    "# updated\n",
    "def receiving_candidates(current_day):\n",
    "    receiving_cand = []\n",
    "    for i in current_inventory.keys():\n",
    "        mean, st_dev = convolution(i, current_day)\n",
    "        critical_point = int(mean) - 1\n",
    "      \n",
    "        if critical_point > current_inventory[i]:\n",
    "            receiving_cand.append(i)\n",
    "    return receiving_cand"
   ]
  },
  {
   "cell_type": "code",
   "execution_count": 18,
   "id": "870ffc68",
   "metadata": {
    "tags": []
   },
   "outputs": [],
   "source": [
    "current_time=time.time()\n",
    "week = 1\n",
    "results = pd.DataFrame()\n",
    "for i in range(2000):\n",
    "    \n",
    "    current_inventory = reset_inventory()\n",
    "    \n",
    "    #print(f\"{week}. beginning of the week, inventory: {current_inventory}\")\n",
    "    weekly_df = pd.DataFrame(columns=[\"week\", \"day\", \"shipper\", \"receiver\", \"transshipment_amount\"])\n",
    "    sales_dff = pd.DataFrame()\n",
    "    current_day = 0\n",
    "    for i in range(6):\n",
    "        \n",
    "        max_transshipments = {}\n",
    "        max_needs = {}\n",
    "        receiver_inventory = {}\n",
    "        receiver_demand = {}\n",
    "        receiver_st_dev = {}\n",
    "        if current_day <= 5:\n",
    "            \n",
    "            shipping_list = shipper_candidates(current_day)\n",
    "            receiving_list = receiving_candidates(current_day)\n",
    "            #print(f\"shipping list: {shipping_list}, receiving list: {receiving_list}\")\n",
    "            daily_df = pd.DataFrame(columns=[\"shipper\", \"receiver\", \"transshipment_amount\", \"transshipment_cost\"])\n",
    "           \n",
    "            for i in shipping_list:\n",
    "                s_inv = current_inventory[i]\n",
    "                s_mean, s_stdev = convolution(i,current_day)            \n",
    "                \n",
    "                max_transshipments[i] = max(0, (int(s_inv) - int(s_mean)))\n",
    "                \n",
    "                for k in receiving_list:\n",
    "                    r_mean, r_stdev = convolution(k,current_day)\n",
    "                    r_inv = current_inventory[k]\n",
    "                    \n",
    "                    max_needs[k] = max(0, (int(r_mean) - int(r_inv)))\n",
    "                    receiver_inventory[k] = r_inv\n",
    "                    receiver_demand[k] = r_mean\n",
    "                    receiver_st_dev[k] = r_stdev\n",
    "                    \n",
    "            max_n_amount = sum(max_needs.values())\n",
    "            max_t_amount = sum(max_transshipments.values())\n",
    "            \n",
    "            if max_n_amount > max_t_amount:\n",
    "                #print(f\"receiver_inventory: {receiver_inventory}\")\n",
    "                #print(f\"receiver_demands: {receiver_demand}\")\n",
    "                sum_r_inv = sum(receiver_inventory.values())\n",
    "                sum_r_demand = sum(receiver_demand.values())\n",
    "                sum_r_st_dev = sum(receiver_st_dev.values())\n",
    "                payda = sum_r_demand + (sum_r_st_dev*(1.8339))\n",
    "                transshipment_amounts = {}\n",
    "                \n",
    "                for k in receiving_list:\n",
    "                    r_mean, r_stdev = convolution(k,current_day)\n",
    "                    r_inv = current_inventory[k]\n",
    "                    #print(f\"receiver, receiver_mean, receiver_inventory: {k}, {r_mean}, {r_inv}\")\n",
    "                    occured_transhipment = max(0, int(((r_mean + (r_stdev*1.75))/payda)*max_t_amount))\n",
    "                    #print(f\"occured transshipment= {occured_transhipment}\")\n",
    "                    transshipment_amounts[k] = occured_transhipment\n",
    "                \n",
    "                transshipment_amounts = {k: v for k, v in transshipment_amounts.items() if v != 0}\n",
    "                #print(f\"transshipment_amounts: {transshipment_amounts}\")\n",
    "                \n",
    "                df = pd.DataFrame.from_dict(current_inventory, orient='index', columns=['inventory'])\n",
    "                df['max_transship'] = df.index.map(max_transshipments).fillna(0).astype(int)\n",
    "                df['need'] = df.index.map(transshipment_amounts).fillna(0).astype(int)\n",
    "                transfers = []\n",
    "                while df['max_transship'].sum() > 0 and df['need'].sum() > 0:\n",
    "                    # sender: max_transship > 0 ve en yüksek\n",
    "                    sender_row = df[df['max_transship'] > 0].sort_values(by='max_transship', ascending=False).iloc[0]\n",
    "                    sender_id = sender_row.name\n",
    "                    sender_capacity = sender_row['max_transship']\n",
    "                \n",
    "                    # receiver: need > 0 ve en yüksek\n",
    "                    receiver_row = df[df['need'] > 0].sort_values(by='need', ascending=False).iloc[0]\n",
    "                    receiver_id = receiver_row.name\n",
    "                    receiver_need = receiver_row['need']\n",
    "\n",
    "                    send_amount = min(sender_capacity, receiver_need)\n",
    "            \n",
    "                    current_inventory[sender_id] -= send_amount\n",
    "                    current_inventory[receiver_id] += send_amount\n",
    "                    \n",
    "                    df.at[sender_id, 'max_transship'] -= send_amount\n",
    "                    df.at[receiver_id, 'need'] -= send_amount\n",
    "                \n",
    "                    # log record\n",
    "                    transfers.append((sender_id, receiver_id, send_amount))\n",
    "                    \n",
    "                    weekly_df = pd.concat([weekly_df, pd.DataFrame([{\n",
    "                        \"week\": week,\n",
    "                        \"day\": current_day,\n",
    "                        \"shipper\": sender_id,\n",
    "                        \"receiver\": receiver_id,\n",
    "                        \"transshipment_amount\": send_amount\n",
    "        \n",
    "                }])], ignore_index=True)\n",
    "                    \n",
    "                    #print(f\"day: {current_day}, current_inventory: {current_inventory}\")\n",
    "                    #print(f\"transfers: {transfers}\")\n",
    "                    \n",
    "                \n",
    "            elif max_n_amount <= max_t_amount and (max_n_amount != 0):\n",
    "                \n",
    "                df = pd.DataFrame.from_dict(current_inventory, orient='index', columns=['inventory'])\n",
    "                df['max_transship'] = df.index.map(max_transshipments).fillna(0).astype(int)\n",
    "                df['need'] = df.index.map(max_needs).fillna(0).astype(int)\n",
    "                transfers = []\n",
    "                while df['max_transship'].sum() > 0 and df['need'].sum() > 0:\n",
    "                    # Gönderici: max_transship > 0 and highest\n",
    "                    sender_row = df[df['max_transship'] > 0].sort_values(by='max_transship', ascending=False).iloc[0]\n",
    "                    sender_id = sender_row.name\n",
    "                    sender_capacity = sender_row['max_transship']\n",
    "                \n",
    "                    # Alıcı: need > 0 ve highest\n",
    "                    receiver_row = df[df['need'] > 0].sort_values(by='need', ascending=False).iloc[0]\n",
    "                    receiver_id = receiver_row.name\n",
    "                    receiver_need = receiver_row['need']\n",
    "                \n",
    "                    # transshipment amount\n",
    "                    send_amount = min(sender_capacity, receiver_need)\n",
    "                \n",
    "                    current_inventory[sender_id] -= send_amount\n",
    "                    current_inventory[receiver_id] += send_amount\n",
    "                    \n",
    "                    df.at[sender_id, 'max_transship'] -= send_amount\n",
    "                    df.at[receiver_id, 'need'] -= send_amount\n",
    "                \n",
    "                    # log record\n",
    "                    transfers.append((sender_id, receiver_id, send_amount))\n",
    "                    \n",
    "                    weekly_df = pd.concat([weekly_df, pd.DataFrame([{\n",
    "                        \"week\": week,\n",
    "                        \"day\": current_day,\n",
    "                        \"shipper\": sender_id,\n",
    "                        \"receiver\": receiver_id,\n",
    "                        \"transshipment_amount\": send_amount\n",
    "        \n",
    "                }])], ignore_index=True)\n",
    "                    \n",
    "                    #print(f\"day: {current_day}, current_inventory: {current_inventory}\")\n",
    "                    #print(f\"transfers: {transfers}\")\n",
    "                    ay + 1\n",
    "        \n",
    "    if current_day == 6:\n",
    "        for i in current_inventory.keys():\n",
    "                \n",
    "            mean,stdev=daily_demands[i][current_day]\n",
    "            number=int(np.random.normal(mean,stdev))\n",
    "            actual_sales = min(number, current_inventory[i])\n",
    "            lost_sales = max(0, number - current_inventory[i])\n",
    "            current_inventory[i]=current_inventory[i]-actual_sales\n",
    "            new_row = pd.DataFrame({'Store': [i], 'Day': [current_day], 'Sales': actual_sales,'Lost Sales':lost_sales,'Demand':number,'Inventory':current_inventory[i]})\n",
    "            sales_dff = pd.concat([sales_dff, new_row], ignore_index=True)\n",
    "    #print(sales_dff)\n",
    "    weekly_df[\"transshipment_amount\"] = pd.to_numeric(weekly_df[\"transshipment_amount\"], errors=\"coerce\")\n",
    "    sales_dff[\"Inventory\"] = pd.to_numeric(sales_dff[\"Inventory\"], errors=\"coerce\")\n",
    "    sales_dff[\"Lost Sales\"]=pd.to_numeric(sales_dff[\"Lost Sales\"], errors=\"coerce\")\n",
    "    weekly_cost = int(costs[\"transshipment\"])*weekly_df[\"transshipment_amount\"].sum()+int(costs[\"stockout\"])*sales_dff[\"Lost Sales\"].sum()+int(costs[\"holding\"])*sales_dff[\"Inventory\"].sum()\n",
    "    weekly_df[\"week_cost\"] = weekly_cost\n",
    "    \n",
    "    \n",
    "    results = pd.concat([results, weekly_df], ignore_index=True)\n",
    "    week = week + 1                    "
   ]
  },
  {
   "cell_type": "code",
   "execution_count": 19,
   "id": "2172f983",
   "metadata": {},
   "outputs": [
    {
     "data": {
      "text/html": [
       "<div>\n",
       "<style scoped>\n",
       "    .dataframe tbody tr th:only-of-type {\n",
       "        vertical-align: middle;\n",
       "    }\n",
       "\n",
       "    .dataframe tbody tr th {\n",
       "        vertical-align: top;\n",
       "    }\n",
       "\n",
       "    .dataframe thead th {\n",
       "        text-align: right;\n",
       "    }\n",
       "</style>\n",
       "<table border=\"1\" class=\"dataframe\">\n",
       "  <thead>\n",
       "    <tr style=\"text-align: right;\">\n",
       "      <th></th>\n",
       "      <th>week</th>\n",
       "      <th>day</th>\n",
       "      <th>shipper</th>\n",
       "      <th>receiver</th>\n",
       "      <th>transshipment_amount</th>\n",
       "      <th>week_cost</th>\n",
       "    </tr>\n",
       "  </thead>\n",
       "  <tbody>\n",
       "    <tr>\n",
       "      <th>23906</th>\n",
       "      <td>2000</td>\n",
       "      <td>0</td>\n",
       "      <td>5</td>\n",
       "      <td>1</td>\n",
       "      <td>6</td>\n",
       "      <td>4208</td>\n",
       "    </tr>\n",
       "    <tr>\n",
       "      <th>23907</th>\n",
       "      <td>2000</td>\n",
       "      <td>0</td>\n",
       "      <td>8</td>\n",
       "      <td>3</td>\n",
       "      <td>5</td>\n",
       "      <td>4208</td>\n",
       "    </tr>\n",
       "    <tr>\n",
       "      <th>23908</th>\n",
       "      <td>2000</td>\n",
       "      <td>0</td>\n",
       "      <td>7</td>\n",
       "      <td>6</td>\n",
       "      <td>3</td>\n",
       "      <td>4208</td>\n",
       "    </tr>\n",
       "    <tr>\n",
       "      <th>23909</th>\n",
       "      <td>2000</td>\n",
       "      <td>0</td>\n",
       "      <td>5</td>\n",
       "      <td>2</td>\n",
       "      <td>2</td>\n",
       "      <td>4208</td>\n",
       "    </tr>\n",
       "    <tr>\n",
       "      <th>23910</th>\n",
       "      <td>2000</td>\n",
       "      <td>0</td>\n",
       "      <td>7</td>\n",
       "      <td>9</td>\n",
       "      <td>1</td>\n",
       "      <td>4208</td>\n",
       "    </tr>\n",
       "  </tbody>\n",
       "</table>\n",
       "</div>"
      ],
      "text/plain": [
       "       week day shipper receiver  transshipment_amount  week_cost\n",
       "23906  2000   0       5        1                     6       4208\n",
       "23907  2000   0       8        3                     5       4208\n",
       "23908  2000   0       7        6                     3       4208\n",
       "23909  2000   0       5        2                     2       4208\n",
       "23910  2000   0       7        9                     1       4208"
      ]
     },
     "execution_count": 19,
     "metadata": {},
     "output_type": "execute_result"
    }
   ],
   "source": [
    "results.tail()"
   ]
  },
  {
   "cell_type": "code",
   "execution_count": 20,
   "id": "c79eeab9",
   "metadata": {
    "scrolled": true
   },
   "outputs": [
    {
     "name": "stdout",
     "output_type": "stream",
     "text": [
      "5025.2065\n"
     ]
    }
   ],
   "source": [
    "unique_week_costs = results.drop_duplicates(subset=\"week\")[[\"week_cost\"]]\n",
    "mean_cost = unique_week_costs[\"week_cost\"].mean()\n",
    "print(mean_cost)"
   ]
  },
  {
   "cell_type": "code",
   "execution_count": 21,
   "id": "19be7051",
   "metadata": {},
   "outputs": [
    {
     "data": {
      "text/plain": [
       "895282"
      ]
     },
     "execution_count": 21,
     "metadata": {},
     "output_type": "execute_result"
    }
   ],
   "source": [
    "results[\"transshipment_amount\"].sum()"
   ]
  }
 ],
 "metadata": {
  "kernelspec": {
   "display_name": "Python 3 (ipykernel)",
   "language": "python",
   "name": "python3"
  },
  "language_info": {
   "codemirror_mode": {
    "name": "ipython",
    "version": 3
   },
   "file_extension": ".py",
   "mimetype": "text/x-python",
   "name": "python",
   "nbconvert_exporter": "python",
   "pygments_lexer": "ipython3",
   "version": "3.11.5"
  }
 },
 "nbformat": 4,
 "nbformat_minor": 5
}
