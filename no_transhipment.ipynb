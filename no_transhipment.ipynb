{
 "cells": [
  {
   "cell_type": "code",
   "execution_count": 1,
   "id": "c22e1679",
   "metadata": {},
   "outputs": [],
   "source": [
    "import time\n",
    "import pandas as pd\n",
    "import numpy as np\n",
    "import math\n",
    "from scipy.stats import norm"
   ]
  },
  {
   "cell_type": "code",
   "execution_count": 2,
   "id": "b4e38ea6-d3bd-490e-91d8-2dccab8e05cd",
   "metadata": {},
   "outputs": [],
   "source": [
    "daily_demands = {'1': [(42.1,7.6),(41.9,12),(40.2,12.3),(37.2,12.3),(36.1,12.3),(34.6,12.6),(34.3,12.7)],#1096 4k\n",
    "                '2': [(15.6,4.8),(15.3,7.9),(15.8,7.7),(14.8,8.1),(16.2,7.7),(15.9,7.8),(17.2,7.7)],#2177 3k\n",
    "                '3': [(30,8.2),(29.3,12.3),(27.2,12.9),(26,14),(25.9,14.1),(25.6,14.4),(26.1,14.3)],#2189 4k\n",
    "                '4': [(3.1,1.6),(2.8,2.5),(3,2.5),(2.5,2.6),(2.8,2.6),(2.7,2.6),(3.2,2.5)], # 3328 2k\n",
    "                '5': [(7.9,3.1),(8.4,4.8),(7.9,4.8),(7.3,5),(7.4,5),(6.9,5),(8.1,5)], # 3349 2k\n",
    "                '6': [(22.8,5.8),(21.4,9),(19.9,9.1),(16.4,10.1),(20.4,10.2),(20.1,10.4),(16.6,10.4)],#3889 3k\n",
    "                '7': [(3.1,1.5),(2.9,2.5),(3.6,2.5),(3.1,2.4),(5,2.4),(5,2.5),(4.1,2.4)], #4388 1k\n",
    "                '8': [(3.8,2.4),(4.2,3.8),(4,3.7),(4,4.1),(3.4,4),(3.4,3.9),(3.4,3.8)], #4816 1k\n",
    "                '9': [(7.9,3.9),(8.7,5.6),(9,5.6),(9.1,6),(9.4,6),(9.4,6),(9.3,5.9)]} #5136 3k"
   ]
  },
  {
   "cell_type": "code",
   "execution_count": 3,
   "id": "72717fda-13cd-44dd-880b-86faec50f961",
   "metadata": {},
   "outputs": [],
   "source": [
    "store_grades = {'1': 4, '2': 3, '3': 4, '4': 2, '5': 2, '6': 3, '7': 1, '8': 1, '9': 3}"
   ]
  },
  {
   "cell_type": "code",
   "execution_count": 4,
   "id": "b46835e6-5f20-4ead-a1f6-ae0d90bbf33d",
   "metadata": {},
   "outputs": [],
   "source": [
    "current_inventory={}\n",
    "total=0\n",
    "for store, demand in daily_demands.items():\n",
    "    total =total+(sum(x[0] for x in demand))\n",
    "\n",
    "\n",
    "weight=0\n",
    "for k in store_grades.values():\n",
    "    weight=weight+k\n",
    "    \n",
    "for i in daily_demands.keys():\n",
    "    current_inventory[i]=math.ceil((int(total)*(store_grades[i]/weight)))"
   ]
  },
  {
   "cell_type": "code",
   "execution_count": 5,
   "id": "56aa5489",
   "metadata": {},
   "outputs": [],
   "source": [
    "initial_inventory = current_inventory.copy()"
   ]
  },
  {
   "cell_type": "code",
   "execution_count": 6,
   "id": "ff1dab2f",
   "metadata": {},
   "outputs": [],
   "source": [
    "def reset_inventory():\n",
    "    return initial_inventory.copy()"
   ]
  },
  {
   "cell_type": "code",
   "execution_count": 7,
   "id": "2064b48a",
   "metadata": {},
   "outputs": [],
   "source": [
    "num_stores = 9\n",
    "current_day = 0"
   ]
  },
  {
   "cell_type": "code",
   "execution_count": 8,
   "id": "bac1094c",
   "metadata": {},
   "outputs": [],
   "source": [
    "costs = {'stockout': 30,\n",
    "        'holding': 1,\n",
    "        'transshipment': 1}"
   ]
  },
  {
   "cell_type": "code",
   "execution_count": 9,
   "id": "2c8cce1d",
   "metadata": {},
   "outputs": [],
   "source": [
    "def convolution(store_id, start_day):\n",
    "    \n",
    "    store_data = daily_demands[store_id]\n",
    "    future_data = store_data[start_day:]\n",
    "    mean_values = [mean for mean, _ in future_data]\n",
    "    std_dev_values = [std_dev for _, std_dev in future_data]\n",
    "    convoluted_mean = sum(mean_values)\n",
    "    convoluted_st_dev = math.sqrt(sum(x**2 for x in std_dev_values))\n",
    "    return convoluted_mean, convoluted_st_dev"
   ]
  },
  {
   "cell_type": "code",
   "execution_count": 10,
   "id": "8ab9d062",
   "metadata": {},
   "outputs": [],
   "source": [
    "p_value=(costs['stockout'] - costs['transshipment']) / (costs['stockout'] + costs['holding'] - costs['transshipment'])\n",
    "ratio=norm.ppf(p_value)"
   ]
  },
  {
   "cell_type": "code",
   "execution_count": 11,
   "id": "3b903631",
   "metadata": {},
   "outputs": [],
   "source": [
    "current_day = 0\n",
    "sales_dff = pd.DataFrame(columns=['Store', 'Day', 'Sales','Lost Sales','Demand','Inventory'])"
   ]
  },
  {
   "cell_type": "code",
   "execution_count": 12,
   "id": "65c5f302",
   "metadata": {},
   "outputs": [],
   "source": [
    "def update_inventory(current_day):\n",
    "    global sales_dff\n",
    "    for i in current_inventory.keys():\n",
    "        \n",
    "        todays_sales = {i: max(0,int(np.random.normal(daily_demands[(i)][current_day][0], daily_demands[(i)][current_day][1])))}\n",
    "        actual_sales = min(todays_sales[i], current_inventory[i])\n",
    "        lost_sales = max(0, todays_sales[i] - current_inventory[i])\n",
    "        current_inventory[i] = current_inventory[i]-actual_sales\n",
    "        new_row = pd.DataFrame({'Store': [i], 'Day': [current_day], 'Sales': [actual_sales],'Lost Sales':lost_sales,'Demand':todays_sales[i],'Inventory':current_inventory[i]})\n",
    "        sales_dff = pd.concat([sales_dff, new_row], ignore_index=True)\n",
    "\n",
    "    return current_inventory   "
   ]
  },
  {
   "cell_type": "code",
   "execution_count": 13,
   "id": "870ffc68",
   "metadata": {
    "scrolled": true,
    "tags": []
   },
   "outputs": [
    {
     "name": "stdout",
     "output_type": "stream",
     "text": [
      "Maximum cost for 100 week: 12702\n",
      "minimum cost for 100 week: 4196\n"
     ]
    }
   ],
   "source": [
    "current_time=time.time()\n",
    "\n",
    "results = pd.DataFrame()\n",
    "cost_dict={}\n",
    "for week in range(2000):\n",
    "    current_inventory = reset_inventory()\n",
    "    sales_dff = pd.DataFrame()\n",
    "\n",
    "    for day in range(7):\n",
    "        daily_inventory=update_inventory(day)\n",
    "\n",
    "    weekly_cost=(sales_dff[\"Lost Sales\"].sum()*costs[\"stockout\"])+(sales_dff[\"Inventory\"].sum()*costs[\"holding\"])   \n",
    "    cost_dict[week+1]=weekly_cost\n",
    "    sales_dff[\"Week\"]=week+1\n",
    "    sales_dff[\"Cost\"]=weekly_cost\n",
    "    results = pd.concat([results,sales_dff], ignore_index=True)\n",
    "    \n",
    "print(\"Maximum cost for 100 week:\",results[\"Cost\"].max())\n",
    "print(\"minimum cost for 100 week:\",results[\"Cost\"].min())    "
   ]
  },
  {
   "cell_type": "code",
   "execution_count": 14,
   "id": "8118c0fe",
   "metadata": {},
   "outputs": [
    {
     "data": {
      "text/plain": [
       "167.131"
      ]
     },
     "execution_count": 14,
     "metadata": {},
     "output_type": "execute_result"
    }
   ],
   "source": [
    "results[\"Lost Sales\"].sum()/2000"
   ]
  },
  {
   "cell_type": "code",
   "execution_count": 15,
   "id": "06a05651",
   "metadata": {},
   "outputs": [
    {
     "data": {
      "text/plain": [
       "3047.847"
      ]
     },
     "execution_count": 15,
     "metadata": {},
     "output_type": "execute_result"
    }
   ],
   "source": [
    "results[\"Inventory\"].sum()/2000"
   ]
  },
  {
   "cell_type": "code",
   "execution_count": 16,
   "id": "c79eeab9",
   "metadata": {},
   "outputs": [
    {
     "name": "stdout",
     "output_type": "stream",
     "text": [
      "8061.777\n"
     ]
    }
   ],
   "source": [
    "unique_week_costs = results.drop_duplicates(subset=\"Week\")[[\"Cost\"]]\n",
    "mean_cost = unique_week_costs[\"Cost\"].mean()\n",
    "print(mean_cost)"
   ]
  }
 ],
 "metadata": {
  "kernelspec": {
   "display_name": "Python 3 (ipykernel)",
   "language": "python",
   "name": "python3"
  },
  "language_info": {
   "codemirror_mode": {
    "name": "ipython",
    "version": 3
   },
   "file_extension": ".py",
   "mimetype": "text/x-python",
   "name": "python",
   "nbconvert_exporter": "python",
   "pygments_lexer": "ipython3",
   "version": "3.11.5"
  }
 },
 "nbformat": 4,
 "nbformat_minor": 5
}
